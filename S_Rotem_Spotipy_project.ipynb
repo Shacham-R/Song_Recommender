{
  "nbformat": 4,
  "nbformat_minor": 0,
  "metadata": {
    "colab": {
      "provenance": [],
      "authorship_tag": "ABX9TyPPfR5mM69k2pQy3WsMvcJg",
      "include_colab_link": true
    },
    "kernelspec": {
      "name": "python3",
      "display_name": "Python 3"
    },
    "language_info": {
      "name": "python"
    }
  },
  "cells": [
    {
      "cell_type": "markdown",
      "metadata": {
        "id": "view-in-github",
        "colab_type": "text"
      },
      "source": [
        "<a href=\"https://colab.research.google.com/github/Shacham-R/Song_Recommender/blob/main/S_Rotem_Spotipy_project.ipynb\" target=\"_parent\"><img src=\"https://colab.research.google.com/assets/colab-badge.svg\" alt=\"Open In Colab\"/></a>"
      ]
    },
    {
      "cell_type": "code",
      "execution_count": 24,
      "metadata": {
        "id": "9N5XuMTx6VKE",
        "colab": {
          "base_uri": "https://localhost:8080/"
        },
        "outputId": "5c08aab5-05fc-4b93-aade-0f3d5e27f71d"
      },
      "outputs": [
        {
          "output_type": "stream",
          "name": "stdout",
          "text": [
            "Requirement already satisfied: spotipy in /usr/local/lib/python3.10/dist-packages (2.23.0)\n",
            "Requirement already satisfied: redis>=3.5.3 in /usr/local/lib/python3.10/dist-packages (from spotipy) (5.0.1)\n",
            "Requirement already satisfied: requests>=2.25.0 in /usr/local/lib/python3.10/dist-packages (from spotipy) (2.31.0)\n",
            "Requirement already satisfied: six>=1.15.0 in /usr/local/lib/python3.10/dist-packages (from spotipy) (1.16.0)\n",
            "Requirement already satisfied: urllib3>=1.26.0 in /usr/local/lib/python3.10/dist-packages (from spotipy) (2.0.7)\n",
            "Requirement already satisfied: async-timeout>=4.0.2 in /usr/local/lib/python3.10/dist-packages (from redis>=3.5.3->spotipy) (4.0.3)\n",
            "Requirement already satisfied: charset-normalizer<4,>=2 in /usr/local/lib/python3.10/dist-packages (from requests>=2.25.0->spotipy) (3.3.2)\n",
            "Requirement already satisfied: idna<4,>=2.5 in /usr/local/lib/python3.10/dist-packages (from requests>=2.25.0->spotipy) (3.4)\n",
            "Requirement already satisfied: certifi>=2017.4.17 in /usr/local/lib/python3.10/dist-packages (from requests>=2.25.0->spotipy) (2023.7.22)\n"
          ]
        }
      ],
      "source": [
        "!pip install spotipy\n",
        "import spotipy as sp\n",
        "import sklearn.preprocessing as sk\n",
        "from sklearn.cluster import KMeans\n",
        "import pandas as pd\n",
        "import json\n",
        "import numpy as np\n",
        "import matplotlib.pyplot as plt"
      ]
    },
    {
      "cell_type": "code",
      "source": [
        "from spotipy.oauth2 import SpotifyClientCredentials\n",
        "\n",
        "\n",
        "c_id = 'a5a0d6ee906e4ead819821a17f9ec651'\n",
        "c_se ='680ffd44ed214055be771972a3495cc4'\n",
        "\n",
        "sp = sp.Spotify(auth_manager=SpotifyClientCredentials(client_id=c_id, client_secret=c_se))"
      ],
      "metadata": {
        "id": "2Cl1FSLq8MQ2"
      },
      "execution_count": 25,
      "outputs": []
    },
    {
      "cell_type": "markdown",
      "source": [
        "# Playlist import and DF creation"
      ],
      "metadata": {
        "id": "j1l1lGEXwKts"
      }
    },
    {
      "cell_type": "code",
      "source": [
        "#getting songs from a playlist\n",
        "def get_playlist_tracks(playlist_id):\n",
        "    results = sp.user_playlist_tracks(playlist_id = playlist_id)\n",
        "    tracks = results['items']\n",
        "    while results['next']:\n",
        "        results = sp.next(results)\n",
        "        tracks.extend(results['items'])\n",
        "    return tracks"
      ],
      "metadata": {
        "id": "1wL-nPwUq6MC"
      },
      "execution_count": 26,
      "outputs": []
    },
    {
      "cell_type": "code",
      "source": [
        "#TODO request playlists\n",
        "def get_playlists(username):\n",
        "    results = sp.user_playlists('spotify')\n",
        "    playlists_ids = []\n",
        "    for playlist in results['items']:\n",
        "      playlists_ids.append(playlist['id'])\n",
        "    while results['next']:\n",
        "        results = sp.next(results)\n",
        "        for playlist in results['items']:\n",
        "          playlists_ids.append(playlist['id'])\n",
        "    return playlists_ids"
      ],
      "metadata": {
        "id": "GMSQPSS0v2iW"
      },
      "execution_count": 27,
      "outputs": []
    },
    {
      "cell_type": "code",
      "source": [
        "#playlists_list = ['37i9dQZF1DWTJ7xPn4vNaz','37i9dQZF1DX4o1oenSJRJd','37i9dQZF1DXbTxeAdrVG2l','37i9dQZF1DX4UtSsGT1Sbe','37i9dQZF1DXaKIA8E7WcJj','37i9dQZF1DWSV3Tk4GO2fq']\n",
        "playlists_list = get_playlists('spotify')\n"
      ],
      "metadata": {
        "id": "YtLme4_V0heW"
      },
      "execution_count": 28,
      "outputs": []
    },
    {
      "cell_type": "code",
      "source": [
        "import random\n",
        "randslice = random.randrange(0,len(playlists_list)-100)\n",
        "random100 = playlists_list[randslice:randslice+100]\n",
        "len(random100)"
      ],
      "metadata": {
        "id": "LsbByom0B5du",
        "colab": {
          "base_uri": "https://localhost:8080/"
        },
        "outputId": "849c9be6-f4bc-40fc-e248-85d772685eb3"
      },
      "execution_count": 29,
      "outputs": [
        {
          "output_type": "execute_result",
          "data": {
            "text/plain": [
              "100"
            ]
          },
          "metadata": {},
          "execution_count": 29
        }
      ]
    },
    {
      "cell_type": "code",
      "source": [
        "playlist_tracks = []\n",
        "for i in random100:\n",
        "  results = get_playlist_tracks(i)\n",
        "  playlist_tracks.extend(results)\n",
        "len(playlist_tracks)"
      ],
      "metadata": {
        "colab": {
          "base_uri": "https://localhost:8080/"
        },
        "id": "N0_7SHM3rtqD",
        "outputId": "722af6fd-842a-48d1-c2a5-6058873ccef6"
      },
      "execution_count": 30,
      "outputs": [
        {
          "output_type": "execute_result",
          "data": {
            "text/plain": [
              "6675"
            ]
          },
          "metadata": {},
          "execution_count": 30
        }
      ]
    },
    {
      "cell_type": "code",
      "source": [
        "pl_ids = []\n",
        "for j in playlist_tracks:\n",
        "  try:\n",
        "    pl_ids.append(j['track']['id'])\n",
        "  except TypeError:\n",
        "    pass"
      ],
      "metadata": {
        "id": "W8U2Sp-3DFWy"
      },
      "execution_count": 31,
      "outputs": []
    },
    {
      "cell_type": "code",
      "source": [
        "len(pl_ids)"
      ],
      "metadata": {
        "colab": {
          "base_uri": "https://localhost:8080/"
        },
        "id": "Xli_a4P6D4QL",
        "outputId": "d0bb922f-7fca-495b-df48-fd5ba52b697b"
      },
      "execution_count": 32,
      "outputs": [
        {
          "output_type": "execute_result",
          "data": {
            "text/plain": [
              "6674"
            ]
          },
          "metadata": {},
          "execution_count": 32
        }
      ]
    },
    {
      "cell_type": "code",
      "source": [
        "chunk_size = 100\n",
        "playlist_chopped = [pl_ids[i:i+chunk_size] for i in range(0,len(pl_ids), 100)]\n",
        "print(\"Number of chuncks:\",len(playlist_chopped))"
      ],
      "metadata": {
        "id": "ixhYCuPuaQrk",
        "colab": {
          "base_uri": "https://localhost:8080/"
        },
        "outputId": "4152b709-f47d-4efa-b072-e55cd6e5bc39"
      },
      "execution_count": 33,
      "outputs": [
        {
          "output_type": "stream",
          "name": "stdout",
          "text": [
            "Number of chuncks: 67\n"
          ]
        }
      ]
    },
    {
      "cell_type": "code",
      "source": [
        "pl_af_list = []\n",
        "for i in playlist_chopped:\n",
        "  pl_af_list.extend(sp.audio_features(i))"
      ],
      "metadata": {
        "id": "1VWy127Hsp4E"
      },
      "execution_count": 34,
      "outputs": []
    },
    {
      "cell_type": "code",
      "source": [
        "df_af = pd.DataFrame(pl_af_list)\n",
        "df_af.dropna(inplace=True)\n",
        "df_af.drop_duplicates(inplace=True)\n",
        "df_af.reindex()\n",
        "df_af.duplicated().value_counts()"
      ],
      "metadata": {
        "colab": {
          "base_uri": "https://localhost:8080/"
        },
        "id": "s5aDqZWHtyTg",
        "outputId": "63f8fc44-117f-443a-8eca-2702e2677297"
      },
      "execution_count": 35,
      "outputs": [
        {
          "output_type": "execute_result",
          "data": {
            "text/plain": [
              "False    5769\n",
              "dtype: int64"
            ]
          },
          "metadata": {},
          "execution_count": 35
        }
      ]
    },
    {
      "cell_type": "markdown",
      "source": [
        "# Model training"
      ],
      "metadata": {
        "id": "tTCBzdRfwTT6"
      }
    },
    {
      "cell_type": "code",
      "source": [
        "#Selecting numerical columns\n",
        "df_af.drop(columns=['type','uri','track_href','analysis_url','key','mode','time_signature','duration_ms'],inplace=True,errors='ignore')\n",
        "df_af.head(1)"
      ],
      "metadata": {
        "colab": {
          "base_uri": "https://localhost:8080/",
          "height": 101
        },
        "id": "GQAD0Ff3whoq",
        "outputId": "ac9aa491-a153-4249-c098-6e2edc584a9d"
      },
      "execution_count": 57,
      "outputs": [
        {
          "output_type": "execute_result",
          "data": {
            "text/plain": [
              "   danceability  energy  loudness  speechiness  acousticness  \\\n",
              "0         0.675   0.311   -11.959       0.0525          0.93   \n",
              "\n",
              "   instrumentalness  liveness  valence   tempo                      id  \n",
              "0          0.000261     0.102    0.638  97.159  1TrGdXSgiBm8W68D2K1COG  "
            ],
            "text/html": [
              "\n",
              "  <div id=\"df-0e9373bb-25a0-47c6-8ad4-a1c670aa4c0c\" class=\"colab-df-container\">\n",
              "    <div>\n",
              "<style scoped>\n",
              "    .dataframe tbody tr th:only-of-type {\n",
              "        vertical-align: middle;\n",
              "    }\n",
              "\n",
              "    .dataframe tbody tr th {\n",
              "        vertical-align: top;\n",
              "    }\n",
              "\n",
              "    .dataframe thead th {\n",
              "        text-align: right;\n",
              "    }\n",
              "</style>\n",
              "<table border=\"1\" class=\"dataframe\">\n",
              "  <thead>\n",
              "    <tr style=\"text-align: right;\">\n",
              "      <th></th>\n",
              "      <th>danceability</th>\n",
              "      <th>energy</th>\n",
              "      <th>loudness</th>\n",
              "      <th>speechiness</th>\n",
              "      <th>acousticness</th>\n",
              "      <th>instrumentalness</th>\n",
              "      <th>liveness</th>\n",
              "      <th>valence</th>\n",
              "      <th>tempo</th>\n",
              "      <th>id</th>\n",
              "    </tr>\n",
              "  </thead>\n",
              "  <tbody>\n",
              "    <tr>\n",
              "      <th>0</th>\n",
              "      <td>0.675</td>\n",
              "      <td>0.311</td>\n",
              "      <td>-11.959</td>\n",
              "      <td>0.0525</td>\n",
              "      <td>0.93</td>\n",
              "      <td>0.000261</td>\n",
              "      <td>0.102</td>\n",
              "      <td>0.638</td>\n",
              "      <td>97.159</td>\n",
              "      <td>1TrGdXSgiBm8W68D2K1COG</td>\n",
              "    </tr>\n",
              "  </tbody>\n",
              "</table>\n",
              "</div>\n",
              "    <div class=\"colab-df-buttons\">\n",
              "\n",
              "  <div class=\"colab-df-container\">\n",
              "    <button class=\"colab-df-convert\" onclick=\"convertToInteractive('df-0e9373bb-25a0-47c6-8ad4-a1c670aa4c0c')\"\n",
              "            title=\"Convert this dataframe to an interactive table.\"\n",
              "            style=\"display:none;\">\n",
              "\n",
              "  <svg xmlns=\"http://www.w3.org/2000/svg\" height=\"24px\" viewBox=\"0 -960 960 960\">\n",
              "    <path d=\"M120-120v-720h720v720H120Zm60-500h600v-160H180v160Zm220 220h160v-160H400v160Zm0 220h160v-160H400v160ZM180-400h160v-160H180v160Zm440 0h160v-160H620v160ZM180-180h160v-160H180v160Zm440 0h160v-160H620v160Z\"/>\n",
              "  </svg>\n",
              "    </button>\n",
              "\n",
              "  <style>\n",
              "    .colab-df-container {\n",
              "      display:flex;\n",
              "      gap: 12px;\n",
              "    }\n",
              "\n",
              "    .colab-df-convert {\n",
              "      background-color: #E8F0FE;\n",
              "      border: none;\n",
              "      border-radius: 50%;\n",
              "      cursor: pointer;\n",
              "      display: none;\n",
              "      fill: #1967D2;\n",
              "      height: 32px;\n",
              "      padding: 0 0 0 0;\n",
              "      width: 32px;\n",
              "    }\n",
              "\n",
              "    .colab-df-convert:hover {\n",
              "      background-color: #E2EBFA;\n",
              "      box-shadow: 0px 1px 2px rgba(60, 64, 67, 0.3), 0px 1px 3px 1px rgba(60, 64, 67, 0.15);\n",
              "      fill: #174EA6;\n",
              "    }\n",
              "\n",
              "    .colab-df-buttons div {\n",
              "      margin-bottom: 4px;\n",
              "    }\n",
              "\n",
              "    [theme=dark] .colab-df-convert {\n",
              "      background-color: #3B4455;\n",
              "      fill: #D2E3FC;\n",
              "    }\n",
              "\n",
              "    [theme=dark] .colab-df-convert:hover {\n",
              "      background-color: #434B5C;\n",
              "      box-shadow: 0px 1px 3px 1px rgba(0, 0, 0, 0.15);\n",
              "      filter: drop-shadow(0px 1px 2px rgba(0, 0, 0, 0.3));\n",
              "      fill: #FFFFFF;\n",
              "    }\n",
              "  </style>\n",
              "\n",
              "    <script>\n",
              "      const buttonEl =\n",
              "        document.querySelector('#df-0e9373bb-25a0-47c6-8ad4-a1c670aa4c0c button.colab-df-convert');\n",
              "      buttonEl.style.display =\n",
              "        google.colab.kernel.accessAllowed ? 'block' : 'none';\n",
              "\n",
              "      async function convertToInteractive(key) {\n",
              "        const element = document.querySelector('#df-0e9373bb-25a0-47c6-8ad4-a1c670aa4c0c');\n",
              "        const dataTable =\n",
              "          await google.colab.kernel.invokeFunction('convertToInteractive',\n",
              "                                                    [key], {});\n",
              "        if (!dataTable) return;\n",
              "\n",
              "        const docLinkHtml = 'Like what you see? Visit the ' +\n",
              "          '<a target=\"_blank\" href=https://colab.research.google.com/notebooks/data_table.ipynb>data table notebook</a>'\n",
              "          + ' to learn more about interactive tables.';\n",
              "        element.innerHTML = '';\n",
              "        dataTable['output_type'] = 'display_data';\n",
              "        await google.colab.output.renderOutput(dataTable, element);\n",
              "        const docLink = document.createElement('div');\n",
              "        docLink.innerHTML = docLinkHtml;\n",
              "        element.appendChild(docLink);\n",
              "      }\n",
              "    </script>\n",
              "  </div>\n",
              "\n",
              "    </div>\n",
              "  </div>\n"
            ]
          },
          "metadata": {},
          "execution_count": 57
        }
      ]
    },
    {
      "cell_type": "code",
      "source": [
        "#Scaling the features\n",
        "X = df_af.drop(columns=['id'])\n",
        "scaler = sk.StandardScaler()\n",
        "scaler.fit(X)\n",
        "X_scaled = scaler.transform(X)\n",
        "X_scaled_df = pd.DataFrame(X_scaled, columns = X.columns)\n",
        "display(X_scaled_df.head(1))"
      ],
      "metadata": {
        "colab": {
          "base_uri": "https://localhost:8080/",
          "height": 81
        },
        "id": "g4utEpf5wnaO",
        "outputId": "2ed91bf2-f7b1-415c-ccac-c74697be10e8"
      },
      "execution_count": 58,
      "outputs": [
        {
          "output_type": "display_data",
          "data": {
            "text/plain": [
              "   danceability    energy  loudness  speechiness  acousticness  \\\n",
              "0      0.714652 -0.774001 -0.252728    -0.183627      1.340798   \n",
              "\n",
              "   instrumentalness  liveness   valence     tempo  \n",
              "0         -0.703375 -0.486102  0.630868 -0.664208  "
            ],
            "text/html": [
              "\n",
              "  <div id=\"df-78fcd248-f6fa-4d47-a025-bdcd82026480\" class=\"colab-df-container\">\n",
              "    <div>\n",
              "<style scoped>\n",
              "    .dataframe tbody tr th:only-of-type {\n",
              "        vertical-align: middle;\n",
              "    }\n",
              "\n",
              "    .dataframe tbody tr th {\n",
              "        vertical-align: top;\n",
              "    }\n",
              "\n",
              "    .dataframe thead th {\n",
              "        text-align: right;\n",
              "    }\n",
              "</style>\n",
              "<table border=\"1\" class=\"dataframe\">\n",
              "  <thead>\n",
              "    <tr style=\"text-align: right;\">\n",
              "      <th></th>\n",
              "      <th>danceability</th>\n",
              "      <th>energy</th>\n",
              "      <th>loudness</th>\n",
              "      <th>speechiness</th>\n",
              "      <th>acousticness</th>\n",
              "      <th>instrumentalness</th>\n",
              "      <th>liveness</th>\n",
              "      <th>valence</th>\n",
              "      <th>tempo</th>\n",
              "    </tr>\n",
              "  </thead>\n",
              "  <tbody>\n",
              "    <tr>\n",
              "      <th>0</th>\n",
              "      <td>0.714652</td>\n",
              "      <td>-0.774001</td>\n",
              "      <td>-0.252728</td>\n",
              "      <td>-0.183627</td>\n",
              "      <td>1.340798</td>\n",
              "      <td>-0.703375</td>\n",
              "      <td>-0.486102</td>\n",
              "      <td>0.630868</td>\n",
              "      <td>-0.664208</td>\n",
              "    </tr>\n",
              "  </tbody>\n",
              "</table>\n",
              "</div>\n",
              "    <div class=\"colab-df-buttons\">\n",
              "\n",
              "  <div class=\"colab-df-container\">\n",
              "    <button class=\"colab-df-convert\" onclick=\"convertToInteractive('df-78fcd248-f6fa-4d47-a025-bdcd82026480')\"\n",
              "            title=\"Convert this dataframe to an interactive table.\"\n",
              "            style=\"display:none;\">\n",
              "\n",
              "  <svg xmlns=\"http://www.w3.org/2000/svg\" height=\"24px\" viewBox=\"0 -960 960 960\">\n",
              "    <path d=\"M120-120v-720h720v720H120Zm60-500h600v-160H180v160Zm220 220h160v-160H400v160Zm0 220h160v-160H400v160ZM180-400h160v-160H180v160Zm440 0h160v-160H620v160ZM180-180h160v-160H180v160Zm440 0h160v-160H620v160Z\"/>\n",
              "  </svg>\n",
              "    </button>\n",
              "\n",
              "  <style>\n",
              "    .colab-df-container {\n",
              "      display:flex;\n",
              "      gap: 12px;\n",
              "    }\n",
              "\n",
              "    .colab-df-convert {\n",
              "      background-color: #E8F0FE;\n",
              "      border: none;\n",
              "      border-radius: 50%;\n",
              "      cursor: pointer;\n",
              "      display: none;\n",
              "      fill: #1967D2;\n",
              "      height: 32px;\n",
              "      padding: 0 0 0 0;\n",
              "      width: 32px;\n",
              "    }\n",
              "\n",
              "    .colab-df-convert:hover {\n",
              "      background-color: #E2EBFA;\n",
              "      box-shadow: 0px 1px 2px rgba(60, 64, 67, 0.3), 0px 1px 3px 1px rgba(60, 64, 67, 0.15);\n",
              "      fill: #174EA6;\n",
              "    }\n",
              "\n",
              "    .colab-df-buttons div {\n",
              "      margin-bottom: 4px;\n",
              "    }\n",
              "\n",
              "    [theme=dark] .colab-df-convert {\n",
              "      background-color: #3B4455;\n",
              "      fill: #D2E3FC;\n",
              "    }\n",
              "\n",
              "    [theme=dark] .colab-df-convert:hover {\n",
              "      background-color: #434B5C;\n",
              "      box-shadow: 0px 1px 3px 1px rgba(0, 0, 0, 0.15);\n",
              "      filter: drop-shadow(0px 1px 2px rgba(0, 0, 0, 0.3));\n",
              "      fill: #FFFFFF;\n",
              "    }\n",
              "  </style>\n",
              "\n",
              "    <script>\n",
              "      const buttonEl =\n",
              "        document.querySelector('#df-78fcd248-f6fa-4d47-a025-bdcd82026480 button.colab-df-convert');\n",
              "      buttonEl.style.display =\n",
              "        google.colab.kernel.accessAllowed ? 'block' : 'none';\n",
              "\n",
              "      async function convertToInteractive(key) {\n",
              "        const element = document.querySelector('#df-78fcd248-f6fa-4d47-a025-bdcd82026480');\n",
              "        const dataTable =\n",
              "          await google.colab.kernel.invokeFunction('convertToInteractive',\n",
              "                                                    [key], {});\n",
              "        if (!dataTable) return;\n",
              "\n",
              "        const docLinkHtml = 'Like what you see? Visit the ' +\n",
              "          '<a target=\"_blank\" href=https://colab.research.google.com/notebooks/data_table.ipynb>data table notebook</a>'\n",
              "          + ' to learn more about interactive tables.';\n",
              "        element.innerHTML = '';\n",
              "        dataTable['output_type'] = 'display_data';\n",
              "        await google.colab.output.renderOutput(dataTable, element);\n",
              "        const docLink = document.createElement('div');\n",
              "        docLink.innerHTML = docLinkHtml;\n",
              "        element.appendChild(docLink);\n",
              "      }\n",
              "    </script>\n",
              "  </div>\n",
              "\n",
              "    </div>\n",
              "  </div>\n"
            ]
          },
          "metadata": {}
        }
      ]
    },
    {
      "cell_type": "code",
      "source": [
        "#Clustering\n",
        "kmeans = KMeans(n_clusters=17, random_state=1234)\n",
        "kmeans.fit(X_scaled_df)\n",
        "labels = kmeans.labels_\n",
        "np.unique(labels)"
      ],
      "metadata": {
        "colab": {
          "base_uri": "https://localhost:8080/"
        },
        "id": "MmfxC4miwthh",
        "outputId": "f5856866-7a45-41be-b4f5-9f99a385c88c"
      },
      "execution_count": 59,
      "outputs": [
        {
          "output_type": "stream",
          "name": "stderr",
          "text": [
            "/usr/local/lib/python3.10/dist-packages/sklearn/cluster/_kmeans.py:870: FutureWarning: The default value of `n_init` will change from 10 to 'auto' in 1.4. Set the value of `n_init` explicitly to suppress the warning\n",
            "  warnings.warn(\n"
          ]
        },
        {
          "output_type": "execute_result",
          "data": {
            "text/plain": [
              "array([ 0,  1,  2,  3,  4,  5,  6,  7,  8,  9, 10, 11, 12, 13, 14, 15, 16],\n",
              "      dtype=int32)"
            ]
          },
          "metadata": {},
          "execution_count": 59
        }
      ]
    },
    {
      "cell_type": "code",
      "source": [
        "# assign a cluster to each example\n",
        "labels = kmeans.predict(X_scaled_df)\n",
        "# retrieve unique clusters\n",
        "clusters = np.unique(labels)\n",
        "# create scatter plot for samples from each cluster\n",
        "for cluster in clusters:\n",
        "    # get row indexes for samples with this cluster\n",
        "    row_ix = np.where(labels == cluster)\n",
        "    # create scatter of these samples\n",
        "    plt.scatter(X.to_numpy()[row_ix, 1], X.to_numpy()[row_ix, 3])\n",
        "    # show the plot\n",
        "plt.show()"
      ],
      "metadata": {
        "colab": {
          "base_uri": "https://localhost:8080/",
          "height": 432
        },
        "id": "REgnTv34DyhT",
        "outputId": "7a9e1848-15e1-416c-c9bb-55ba20e49605"
      },
      "execution_count": 60,
      "outputs": [
        {
          "output_type": "display_data",
          "data": {
            "text/plain": [
              "<Figure size 640x480 with 1 Axes>"
            ],
            "image/png": "[encoded data removed]"
          },
          "metadata": {}
        }
      ]
    },
    {
      "cell_type": "code",
      "source": [
        "clusters = kmeans.predict(X_scaled_df)\n",
        "#clusters\n",
        "pd.Series(clusters).value_counts().sort_index()"
      ],
      "metadata": {
        "colab": {
          "base_uri": "https://localhost:8080/"
        },
        "id": "RcXhkTOcEJCW",
        "outputId": "7fef7e93-d9c4-4518-a912-9bc6487273cb"
      },
      "execution_count": 61,
      "outputs": [
        {
          "output_type": "execute_result",
          "data": {
            "text/plain": [
              "0     216\n",
              "1     254\n",
              "2     473\n",
              "3     233\n",
              "4     391\n",
              "5     397\n",
              "6     351\n",
              "7     357\n",
              "8     600\n",
              "9     176\n",
              "10    400\n",
              "11    324\n",
              "12    580\n",
              "13    135\n",
              "14    425\n",
              "15    129\n",
              "16    328\n",
              "dtype: int64"
            ]
          },
          "metadata": {},
          "execution_count": 61
        }
      ]
    },
    {
      "cell_type": "code",
      "source": [
        "X[\"cluster\"] = clusters\n",
        "X.head(1)"
      ],
      "metadata": {
        "colab": {
          "base_uri": "https://localhost:8080/",
          "height": 101
        },
        "id": "v8eMkdkCERHZ",
        "outputId": "b41857be-fadd-4c5a-b4a3-deb2f9bf9322"
      },
      "execution_count": 62,
      "outputs": [
        {
          "output_type": "execute_result",
          "data": {
            "text/plain": [
              "   danceability  energy  loudness  speechiness  acousticness  \\\n",
              "0         0.675   0.311   -11.959       0.0525          0.93   \n",
              "\n",
              "   instrumentalness  liveness  valence   tempo  cluster  \n",
              "0          0.000261     0.102    0.638  97.159       14  "
            ],
            "text/html": [
              "\n",
              "  <div id=\"df-2f7059cb-8ec3-4dc0-8564-1b72bbe78503\" class=\"colab-df-container\">\n",
              "    <div>\n",
              "<style scoped>\n",
              "    .dataframe tbody tr th:only-of-type {\n",
              "        vertical-align: middle;\n",
              "    }\n",
              "\n",
              "    .dataframe tbody tr th {\n",
              "        vertical-align: top;\n",
              "    }\n",
              "\n",
              "    .dataframe thead th {\n",
              "        text-align: right;\n",
              "    }\n",
              "</style>\n",
              "<table border=\"1\" class=\"dataframe\">\n",
              "  <thead>\n",
              "    <tr style=\"text-align: right;\">\n",
              "      <th></th>\n",
              "      <th>danceability</th>\n",
              "      <th>energy</th>\n",
              "      <th>loudness</th>\n",
              "      <th>speechiness</th>\n",
              "      <th>acousticness</th>\n",
              "      <th>instrumentalness</th>\n",
              "      <th>liveness</th>\n",
              "      <th>valence</th>\n",
              "      <th>tempo</th>\n",
              "      <th>cluster</th>\n",
              "    </tr>\n",
              "  </thead>\n",
              "  <tbody>\n",
              "    <tr>\n",
              "      <th>0</th>\n",
              "      <td>0.675</td>\n",
              "      <td>0.311</td>\n",
              "      <td>-11.959</td>\n",
              "      <td>0.0525</td>\n",
              "      <td>0.93</td>\n",
              "      <td>0.000261</td>\n",
              "      <td>0.102</td>\n",
              "      <td>0.638</td>\n",
              "      <td>97.159</td>\n",
              "      <td>14</td>\n",
              "    </tr>\n",
              "  </tbody>\n",
              "</table>\n",
              "</div>\n",
              "    <div class=\"colab-df-buttons\">\n",
              "\n",
              "  <div class=\"colab-df-container\">\n",
              "    <button class=\"colab-df-convert\" onclick=\"convertToInteractive('df-2f7059cb-8ec3-4dc0-8564-1b72bbe78503')\"\n",
              "            title=\"Convert this dataframe to an interactive table.\"\n",
              "            style=\"display:none;\">\n",
              "\n",
              "  <svg xmlns=\"http://www.w3.org/2000/svg\" height=\"24px\" viewBox=\"0 -960 960 960\">\n",
              "    <path d=\"M120-120v-720h720v720H120Zm60-500h600v-160H180v160Zm220 220h160v-160H400v160Zm0 220h160v-160H400v160ZM180-400h160v-160H180v160Zm440 0h160v-160H620v160ZM180-180h160v-160H180v160Zm440 0h160v-160H620v160Z\"/>\n",
              "  </svg>\n",
              "    </button>\n",
              "\n",
              "  <style>\n",
              "    .colab-df-container {\n",
              "      display:flex;\n",
              "      gap: 12px;\n",
              "    }\n",
              "\n",
              "    .colab-df-convert {\n",
              "      background-color: #E8F0FE;\n",
              "      border: none;\n",
              "      border-radius: 50%;\n",
              "      cursor: pointer;\n",
              "      display: none;\n",
              "      fill: #1967D2;\n",
              "      height: 32px;\n",
              "      padding: 0 0 0 0;\n",
              "      width: 32px;\n",
              "    }\n",
              "\n",
              "    .colab-df-convert:hover {\n",
              "      background-color: #E2EBFA;\n",
              "      box-shadow: 0px 1px 2px rgba(60, 64, 67, 0.3), 0px 1px 3px 1px rgba(60, 64, 67, 0.15);\n",
              "      fill: #174EA6;\n",
              "    }\n",
              "\n",
              "    .colab-df-buttons div {\n",
              "      margin-bottom: 4px;\n",
              "    }\n",
              "\n",
              "    [theme=dark] .colab-df-convert {\n",
              "      background-color: #3B4455;\n",
              "      fill: #D2E3FC;\n",
              "    }\n",
              "\n",
              "    [theme=dark] .colab-df-convert:hover {\n",
              "      background-color: #434B5C;\n",
              "      box-shadow: 0px 1px 3px 1px rgba(0, 0, 0, 0.15);\n",
              "      filter: drop-shadow(0px 1px 2px rgba(0, 0, 0, 0.3));\n",
              "      fill: #FFFFFF;\n",
              "    }\n",
              "  </style>\n",
              "\n",
              "    <script>\n",
              "      const buttonEl =\n",
              "        document.querySelector('#df-2f7059cb-8ec3-4dc0-8564-1b72bbe78503 button.colab-df-convert');\n",
              "      buttonEl.style.display =\n",
              "        google.colab.kernel.accessAllowed ? 'block' : 'none';\n",
              "\n",
              "      async function convertToInteractive(key) {\n",
              "        const element = document.querySelector('#df-2f7059cb-8ec3-4dc0-8564-1b72bbe78503');\n",
              "        const dataTable =\n",
              "          await google.colab.kernel.invokeFunction('convertToInteractive',\n",
              "                                                    [key], {});\n",
              "        if (!dataTable) return;\n",
              "\n",
              "        const docLinkHtml = 'Like what you see? Visit the ' +\n",
              "          '<a target=\"_blank\" href=https://colab.research.google.com/notebooks/data_table.ipynb>data table notebook</a>'\n",
              "          + ' to learn more about interactive tables.';\n",
              "        element.innerHTML = '';\n",
              "        dataTable['output_type'] = 'display_data';\n",
              "        await google.colab.output.renderOutput(dataTable, element);\n",
              "        const docLink = document.createElement('div');\n",
              "        docLink.innerHTML = docLinkHtml;\n",
              "        element.appendChild(docLink);\n",
              "      }\n",
              "    </script>\n",
              "  </div>\n",
              "\n",
              "    </div>\n",
              "  </div>\n"
            ]
          },
          "metadata": {},
          "execution_count": 62
        }
      ]
    },
    {
      "cell_type": "markdown",
      "source": [
        "# Program Creation"
      ],
      "metadata": {
        "id": "ufOo7NkZwb_7"
      }
    },
    {
      "cell_type": "code",
      "source": [
        "#join DFs after clustering\n",
        "df = pd.merge(df_af['id'], X,left_index=True,right_index=True)\n",
        "\n",
        "#df.to_csv('spotipy_df')"
      ],
      "metadata": {
        "id": "ixilciJ1H5Ej"
      },
      "execution_count": 63,
      "outputs": []
    },
    {
      "cell_type": "code",
      "source": [
        "#Predicting and returning song ID from the same cluster"
      ],
      "metadata": {
        "id": "JTabgLiTw0p_"
      },
      "execution_count": 64,
      "outputs": []
    },
    {
      "cell_type": "code",
      "source": [
        "#--helper function--\n",
        "# Getting song name and returning ID (spotipy.search)\n",
        "def get_song_id(song_name):\n",
        "  result = sp.search(song_name)\n",
        "  id_ = result[\"tracks\"][\"items\"][0][\"id\"]\n",
        "  return id_\n",
        "\n",
        "# Getting prediction\n",
        "def predict_from_id(id_): # TODO refract!\n",
        "  af = sp.audio_features(id_)[0]\n",
        "  af_ = pd.DataFrame(af,index=[0])\n",
        "  af_ = af_.drop(columns=['id','type','uri','track_href','analysis_url','key','mode','time_signature','duration_ms'],errors='ignore')\n",
        "  af_ = scaler.fit_transform(af_)\n",
        "  pred = kmeans.predict(af_)[0]\n",
        "  recommended = df[df['cluster'] == pred].sample()[\"id\"]\n",
        "  return recommended.values[0]\n",
        "\n",
        "\n",
        "from IPython.display import IFrame\n",
        "def embed_player(track_id):\n",
        "  return IFrame(src=\"https://open.spotify.com/embed/track/\"+track_id,\n",
        "        width=\"320\",\n",
        "        height=\"80\",\n",
        "        frameborder=\"0\",\n",
        "        allowtransparency=\"true\",\n",
        "        allow=\"encrypted-media\",\n",
        "        )\n",
        "\n",
        "def name_to_recommendation(song_name):\n",
        "  id_usr = get_song_id(song_name)\n",
        "  print(\"Your song:\")\n",
        "  display(embed_player(id_usr))\n",
        "  id_rec = predict_from_id(id_usr)\n",
        "  print('Your song recommendation:')\n",
        "  display(embed_player(id_rec))"
      ],
      "metadata": {
        "id": "aLL7w4zExFoM"
      },
      "execution_count": 68,
      "outputs": []
    },
    {
      "cell_type": "code",
      "source": [
        "#user input function\n",
        "def ask_for_song():\n",
        "  song_name = input('please enter a song name to get a simmilar song recommended to you!\\nyou entered: ')\n",
        "  print('You got back:')\n",
        "  try:\n",
        "    return name_to_recommendation(song_name)\n",
        "  except Exception as error:\n",
        "    return error"
      ],
      "metadata": {
        "id": "gnLPwCw4oSiz"
      },
      "execution_count": 66,
      "outputs": []
    },
    {
      "cell_type": "markdown",
      "source": [
        "#"
      ],
      "metadata": {
        "id": "-q7KC1IhedC5"
      }
    },
    {
      "cell_type": "code",
      "source": [
        "ask_for_song()"
      ],
      "metadata": {
        "colab": {
          "base_uri": "https://localhost:8080/",
          "height": 333
        },
        "id": "s40LSP1Z_a0f",
        "outputId": "434bbfb9-b4ff-4caa-a8cc-f0200a832ec3"
      },
      "execution_count": 69,
      "outputs": [
        {
          "output_type": "stream",
          "name": "stdout",
          "text": [
            "please enter a song name to get a simmilar song recommended to you!\n",
            "you entered: macarena\n",
            "You got back:\n",
            "Your song:\n"
          ]
        },
        {
          "output_type": "display_data",
          "data": {
            "text/plain": [
              "<IPython.lib.display.IFrame at 0x7a3f81c77190>"
            ],
            "text/html": [
              "\n",
              "        <iframe\n",
              "            width=\"320\"\n",
              "            height=\"80\"\n",
              "            src=\"https://open.spotify.com/embed/track/4oaj36KzXRgDg4McgcTsZK?frameborder=0&allowtransparency=true&allow=encrypted-media\"\n",
              "            frameborder=\"0\"\n",
              "            allowfullscreen\n",
              "            \n",
              "        ></iframe>\n",
              "        "
            ]
          },
          "metadata": {}
        },
        {
          "output_type": "stream",
          "name": "stdout",
          "text": [
            "Your song recommendation:\n"
          ]
        },
        {
          "output_type": "stream",
          "name": "stderr",
          "text": [
            "/usr/local/lib/python3.10/dist-packages/sklearn/base.py:439: UserWarning: X does not have valid feature names, but KMeans was fitted with feature names\n",
            "  warnings.warn(\n"
          ]
        },
        {
          "output_type": "display_data",
          "data": {
            "text/plain": [
              "<IPython.lib.display.IFrame at 0x7a3f81c77370>"
            ],
            "text/html": [
              "\n",
              "        <iframe\n",
              "            width=\"320\"\n",
              "            height=\"80\"\n",
              "            src=\"https://open.spotify.com/embed/track/0GoEr3439Go5CGHL6fw1US?frameborder=0&allowtransparency=true&allow=encrypted-media\"\n",
              "            frameborder=\"0\"\n",
              "            allowfullscreen\n",
              "            \n",
              "        ></iframe>\n",
              "        "
            ]
          },
          "metadata": {}
        }
      ]
    }
  ]
}